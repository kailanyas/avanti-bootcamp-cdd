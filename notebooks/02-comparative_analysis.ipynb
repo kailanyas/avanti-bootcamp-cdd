{
 "cells": [
  {
   "cell_type": "markdown",
   "id": "a1bae93d-a2c6-43ec-ac05-6b36133bbdfc",
   "metadata": {},
   "source": [
    "# **Análise comparativa de modelos**"
   ]
  },
  {
   "cell_type": "code",
   "execution_count": 29,
   "id": "f55c22f5-0ae8-413f-a0ee-508d8b3e915b",
   "metadata": {
    "tags": []
   },
   "outputs": [],
   "source": [
    "from IPython.display import display, Markdown\n",
    "import joblib\n",
    "import numpy as np\n",
    "import pandas as pd\n",
    "\n",
    "from sklearn.experimental import enable_iterative_imputer\n",
    "from sklearn.impute import IterativeImputer\n",
    "from sklearn.linear_model import LinearRegression\n",
    "\n",
    "from sklearn.impute import SimpleImputer"
   ]
  },
  {
   "cell_type": "markdown",
   "id": "cf865471-0a7c-4e2d-9bcb-e33cb59a151c",
   "metadata": {
    "tags": []
   },
   "source": [
    "## **1. Obtenção de dados**"
   ]
  },
  {
   "cell_type": "markdown",
   "id": "ec638538-aac6-486f-87f8-fab900f5f189",
   "metadata": {},
   "source": [
    "Esta etapa visa obtermos o conjunto de dados e o dicionário, garantindo que tenhamos todas as informações necessárias antes de iniciar o pré-processamento."
   ]
  },
  {
   "cell_type": "code",
   "execution_count": 30,
   "id": "f28877b8-48d0-484f-b084-afe9e47c34bb",
   "metadata": {
    "tags": []
   },
   "outputs": [
    {
     "data": {
      "text/html": [
       "<div>\n",
       "<style scoped>\n",
       "    .dataframe tbody tr th:only-of-type {\n",
       "        vertical-align: middle;\n",
       "    }\n",
       "\n",
       "    .dataframe tbody tr th {\n",
       "        vertical-align: top;\n",
       "    }\n",
       "\n",
       "    .dataframe thead th {\n",
       "        text-align: right;\n",
       "    }\n",
       "</style>\n",
       "<table border=\"1\" class=\"dataframe\">\n",
       "  <thead>\n",
       "    <tr style=\"text-align: right;\">\n",
       "      <th></th>\n",
       "      <th>variavel</th>\n",
       "      <th>descricao</th>\n",
       "      <th>tipo</th>\n",
       "      <th>subtipo</th>\n",
       "    </tr>\n",
       "  </thead>\n",
       "  <tbody>\n",
       "    <tr>\n",
       "      <th>0</th>\n",
       "      <td>survived</td>\n",
       "      <td>Indica se o passageiro sobreviveu ou não</td>\n",
       "      <td>qualitativa</td>\n",
       "      <td>nominal</td>\n",
       "    </tr>\n",
       "    <tr>\n",
       "      <th>1</th>\n",
       "      <td>pclass</td>\n",
       "      <td>Classe em que o passageiro viajou (1, 2 ou 3)</td>\n",
       "      <td>qualitativa</td>\n",
       "      <td>ordinal</td>\n",
       "    </tr>\n",
       "    <tr>\n",
       "      <th>2</th>\n",
       "      <td>sex</td>\n",
       "      <td>Gênero do passageiro</td>\n",
       "      <td>qualitativa</td>\n",
       "      <td>nominal</td>\n",
       "    </tr>\n",
       "    <tr>\n",
       "      <th>3</th>\n",
       "      <td>age</td>\n",
       "      <td>Idade do passageiro</td>\n",
       "      <td>quantitativa</td>\n",
       "      <td>contínua</td>\n",
       "    </tr>\n",
       "    <tr>\n",
       "      <th>4</th>\n",
       "      <td>sibsp</td>\n",
       "      <td>Número de irmãos ou cônjuge a bordo</td>\n",
       "      <td>quantitativa</td>\n",
       "      <td>discreta</td>\n",
       "    </tr>\n",
       "    <tr>\n",
       "      <th>5</th>\n",
       "      <td>parch</td>\n",
       "      <td>Número de pais ou filhos a bordo</td>\n",
       "      <td>quantitativa</td>\n",
       "      <td>discreta</td>\n",
       "    </tr>\n",
       "    <tr>\n",
       "      <th>6</th>\n",
       "      <td>fare</td>\n",
       "      <td>Valor da tarifa paga pelo passageiro</td>\n",
       "      <td>quantitativa</td>\n",
       "      <td>contínua</td>\n",
       "    </tr>\n",
       "    <tr>\n",
       "      <th>7</th>\n",
       "      <td>embarked</td>\n",
       "      <td>Porto em que o passageiro embarcou</td>\n",
       "      <td>qualitativa</td>\n",
       "      <td>nominal</td>\n",
       "    </tr>\n",
       "    <tr>\n",
       "      <th>8</th>\n",
       "      <td>class</td>\n",
       "      <td>Classe do passageiro (em ordinal)</td>\n",
       "      <td>qualitativa</td>\n",
       "      <td>ordinal</td>\n",
       "    </tr>\n",
       "    <tr>\n",
       "      <th>9</th>\n",
       "      <td>who</td>\n",
       "      <td>Categoria do passageiro</td>\n",
       "      <td>qualitativa</td>\n",
       "      <td>nominal</td>\n",
       "    </tr>\n",
       "    <tr>\n",
       "      <th>10</th>\n",
       "      <td>adult_male</td>\n",
       "      <td>Indica se o passageiro é um homem adulto</td>\n",
       "      <td>qualitativa</td>\n",
       "      <td>nominal</td>\n",
       "    </tr>\n",
       "    <tr>\n",
       "      <th>11</th>\n",
       "      <td>deck</td>\n",
       "      <td>Deck da cabine do passageiro</td>\n",
       "      <td>qualitativa</td>\n",
       "      <td>nominal</td>\n",
       "    </tr>\n",
       "    <tr>\n",
       "      <th>12</th>\n",
       "      <td>embark_town</td>\n",
       "      <td>Cidade em que o passageiro embarcou</td>\n",
       "      <td>qualitativa</td>\n",
       "      <td>nominal</td>\n",
       "    </tr>\n",
       "    <tr>\n",
       "      <th>13</th>\n",
       "      <td>alive</td>\n",
       "      <td>Indica se o passageiro sobreviveu</td>\n",
       "      <td>qualitativa</td>\n",
       "      <td>nominal</td>\n",
       "    </tr>\n",
       "    <tr>\n",
       "      <th>14</th>\n",
       "      <td>alone</td>\n",
       "      <td>Indica se o passageiro estava sozinho</td>\n",
       "      <td>qualitativa</td>\n",
       "      <td>nominal</td>\n",
       "    </tr>\n",
       "  </tbody>\n",
       "</table>\n",
       "</div>"
      ],
      "text/plain": [
       "       variavel                                      descricao          tipo  \\\n",
       "0      survived       Indica se o passageiro sobreviveu ou não   qualitativa   \n",
       "1        pclass  Classe em que o passageiro viajou (1, 2 ou 3)   qualitativa   \n",
       "2           sex                           Gênero do passageiro   qualitativa   \n",
       "3           age                            Idade do passageiro  quantitativa   \n",
       "4         sibsp            Número de irmãos ou cônjuge a bordo  quantitativa   \n",
       "5         parch               Número de pais ou filhos a bordo  quantitativa   \n",
       "6          fare           Valor da tarifa paga pelo passageiro  quantitativa   \n",
       "7      embarked             Porto em que o passageiro embarcou   qualitativa   \n",
       "8         class              Classe do passageiro (em ordinal)   qualitativa   \n",
       "9           who                        Categoria do passageiro   qualitativa   \n",
       "10   adult_male       Indica se o passageiro é um homem adulto   qualitativa   \n",
       "11         deck                   Deck da cabine do passageiro   qualitativa   \n",
       "12  embark_town            Cidade em que o passageiro embarcou   qualitativa   \n",
       "13        alive              Indica se o passageiro sobreviveu   qualitativa   \n",
       "14        alone          Indica se o passageiro estava sozinho   qualitativa   \n",
       "\n",
       "     subtipo  \n",
       "0    nominal  \n",
       "1    ordinal  \n",
       "2    nominal  \n",
       "3   contínua  \n",
       "4   discreta  \n",
       "5   discreta  \n",
       "6   contínua  \n",
       "7    nominal  \n",
       "8    ordinal  \n",
       "9    nominal  \n",
       "10   nominal  \n",
       "11   nominal  \n",
       "12   nominal  \n",
       "13   nominal  \n",
       "14   nominal  "
      ]
     },
     "execution_count": 30,
     "metadata": {},
     "output_type": "execute_result"
    }
   ],
   "source": [
    "df = pd.read_csv(\"../data/raw/data.csv\")\n",
    "df_dict = pd.read_csv(\"../data/external/dictionary.csv\")\n",
    "df_dict"
   ]
  },
  {
   "cell_type": "markdown",
   "id": "e56bf270-ba5d-4c37-9c33-f45418461d2f",
   "metadata": {},
   "source": [
    "## **2. Preparação de dados**"
   ]
  },
  {
   "cell_type": "markdown",
   "id": "43f66ac3-4e63-4437-b1c0-29cb1b90e148",
   "metadata": {},
   "source": [
    "Neste tópico, são realizados a normalização, codificação e tratamento de dados faltantes e/ou discrepantes presentes no conjunto de dados."
   ]
  },
  {
   "cell_type": "markdown",
   "id": "dac2509c-bb57-4766-a178-217f05517790",
   "metadata": {},
   "source": [
    "### 2.1. Dados faltantes"
   ]
  },
  {
   "cell_type": "code",
   "execution_count": 32,
   "id": "3427a00c-0c3d-45bc-9717-f6c0682c283a",
   "metadata": {
    "tags": []
   },
   "outputs": [],
   "source": [
    "target_column = 'survived' #coluna que desejamos prever\n",
    "\n",
    "#lista de variáveis continuas\n",
    "continuous_columns = (\n",
    "    df_dict\n",
    "    .query(\"subtipo == 'contínua'\")\n",
    "    .variavel\n",
    "    .to_list()\n",
    ")\n",
    "\n",
    "#lista de variáveis nominais\n",
    "nominal_columns = (\n",
    "    df_dict\n",
    "    .query(\"subtipo == 'nominal' and variavel != @target_column and variavel != 'deck'\")\n",
    "    .variavel\n",
    "    .to_list()\n",
    ")\n",
    "\n",
    "x = df.drop(columns=[target_column], axis=1)\n",
    "y = df[target_column]"
   ]
  },
  {
   "cell_type": "code",
   "execution_count": 33,
   "id": "ab14c64c-2fbb-46c0-85b7-9845349e1dbf",
   "metadata": {
    "tags": []
   },
   "outputs": [],
   "source": [
    "# tratamento de dados faltantes\n",
    "\n",
    "imputer = IterativeImputer(estimator=LinearRegression())\n",
    "imputer.fit(df[continuous_columns])\n",
    "df[continuous_columns] = imputer.transform(df[continuous_columns])\n",
    "\n",
    "imputer = SimpleImputer(strategy='most_frequent')\n",
    "imputer.fit(df[nominal_columns])\n",
    "df[nominal_columns] = imputer.transform(df[nominal_columns])\n",
    "\n",
    "df = df.drop(columns=['deck']) #excluindo coluna da variável 'deck' por ter 77% com valores faltantes"
   ]
  },
  {
   "cell_type": "code",
   "execution_count": null,
   "id": "1a071568-0f9f-41b7-9895-da5bf7503815",
   "metadata": {},
   "outputs": [],
   "source": []
  }
 ],
 "metadata": {
  "kernelspec": {
   "display_name": "Python 3 (ipykernel)",
   "language": "python",
   "name": "python3"
  },
  "language_info": {
   "codemirror_mode": {
    "name": "ipython",
    "version": 3
   },
   "file_extension": ".py",
   "mimetype": "text/x-python",
   "name": "python",
   "nbconvert_exporter": "python",
   "pygments_lexer": "ipython3",
   "version": "3.10.11"
  }
 },
 "nbformat": 4,
 "nbformat_minor": 5
}
